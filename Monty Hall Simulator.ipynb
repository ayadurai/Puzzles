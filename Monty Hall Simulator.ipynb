{
 "cells": [
  {
   "cell_type": "markdown",
   "metadata": {
    "collapsed": true
   },
   "source": [
    "# Monty Hall Simulator\n",
    "Python code to simulate Monty Hall games, to verify the success rates for the two strategies."
   ]
  },
  {
   "cell_type": "markdown",
   "metadata": {},
   "source": [
    "## Worked example\n",
    "The following code walks through one game, where the player decides to switch."
   ]
  },
  {
   "cell_type": "code",
   "execution_count": 11,
   "metadata": {},
   "outputs": [
    {
     "name": "stdout",
     "output_type": "stream",
     "text": [
      "The player initially selected door 2.\n",
      "Monty opens the door 3, showing the user a goat.\n",
      "Player decides to switch doors, to door 1.\n",
      "The car is behind door 1.\n",
      "Player wins!\n"
     ]
    }
   ],
   "source": [
    "# Monty Hall Code\n",
    "\n",
    "import random\n",
    "doors = {1, 2, 3}\n",
    "switch = True # Player's strategy is to switch doors\n",
    "\n",
    "car_door = random.sample(doors, 1)[0]\n",
    "initial_choice = random.sample(doors, 1)[0]\n",
    "print('The player initially selected door {}.'.format(initial_choice))\n",
    "monty_door = (doors - {car_door, initial_choice}).pop()\n",
    "print('Monty opens the door {}, showing the user a goat.'.format(monty_door))\n",
    "\n",
    "if switch:\n",
    "    final_choice = (doors - {monty_door, initial_choice}).pop()\n",
    "else:\n",
    "    final_choice = initial_choice\n",
    "print('Player decides to switch doors, to door {}.'.format(final_choice))\n",
    "\n",
    "print('The car is behind door {}.'.format(car_door))\n",
    "\n",
    "if final_choice == car_door:\n",
    "    print('Player wins!')\n",
    "else:\n",
    "    print('Player loses!')"
   ]
  },
  {
   "cell_type": "markdown",
   "metadata": {},
   "source": [
    "## Running multiple iterations\n",
    "\n",
    "The following code runs the game 1000 times for each strategy (switch / stick)"
   ]
  },
  {
   "cell_type": "code",
   "execution_count": 12,
   "metadata": {},
   "outputs": [
    {
     "name": "stdout",
     "output_type": "stream",
     "text": [
      "For each strategy, the game was played 1000 times.\n",
      "Using the switching strategy, the player won 668 times.\n",
      "Using the staying strategy, the player won 318 times.\n"
     ]
    }
   ],
   "source": [
    "num_iter = 1000\n",
    "doors = {1, 2, 3}\n",
    "\n",
    "def monty_hall_runner(switch, num_iter):\n",
    "    \"\"\"\n",
    "    Runs the Monty Hall game num_iter times.\n",
    "    The switch parameter is a boolean - indicates whether the strategy\n",
    "    is to switch (True) or stay (False)\n",
    "    \"\"\"\n",
    "    num_wins = 0\n",
    "    \n",
    "    for x in range(1, num_iter):\n",
    "        car_door = random.sample(doors, 1)[0]\n",
    "        initial_choice = random.sample(doors, 1)[0]\n",
    "        monty_door = (doors - {car_door, initial_choice}).pop()\n",
    "        if switch:\n",
    "            final_choice = (doors - {monty_door, initial_choice}).pop()\n",
    "        else:\n",
    "            final_choice = initial_choice\n",
    "\n",
    "        if final_choice == car_door:\n",
    "            num_wins += 1\n",
    "    return num_wins\n",
    "\n",
    "switch_wins = monty_hall_runner(True, num_iter)\n",
    "stay_wins = monty_hall_runner(False, num_iter)\n",
    "\n",
    "print('For each strategy, the game was played {} times.'.format(num_iter))\n",
    "print('Using the switching strategy, the player won {} times.'.format(switch_wins))\n",
    "print('Using the staying strategy, the player won {} times.'.format(stay_wins))"
   ]
  },
  {
   "cell_type": "markdown",
   "metadata": {},
   "source": [
    "## Charts of the results"
   ]
  },
  {
   "cell_type": "code",
   "execution_count": 13,
   "metadata": {},
   "outputs": [
    {
     "data": {
      "image/png": "[encoded data removed]",
      "text/plain": [
       "<matplotlib.figure.Figure at 0x108455a90>"
      ]
     },
     "metadata": {},
     "output_type": "display_data"
    }
   ],
   "source": [
    "import matplotlib.pyplot as plt\n",
    "# %matplotlib inline\n",
    "\n",
    "labels = 'Wins', 'Losses'\n",
    "switch_sizes = [switch_wins, num_iter - switch_wins]\n",
    "stay_sizes = [stay_wins, num_iter - stay_wins]\n",
    "\n",
    "plt.figure(1)\n",
    "\n",
    "plt.subplot(121)\n",
    "plt.pie(switch_sizes, labels=labels, autopct='%1.1f%%', shadow=True)\n",
    "plt.axis('equal')\n",
    "plt.title('Switch')\n",
    "\n",
    "plt.subplot(122)\n",
    "plt.pie(stay_sizes, labels=labels, autopct='%1.1f%%', shadow=True)\n",
    "plt.axis('equal')\n",
    "plt.title('Stay')\n",
    "\n",
    "plt.show()"
   ]
  }
 ],
 "metadata": {
  "kernelspec": {
   "display_name": "Python 3",
   "language": "python",
   "name": "python3"
  },
  "language_info": {
   "codemirror_mode": {
    "name": "ipython",
    "version": 3
   },
   "file_extension": ".py",
   "mimetype": "text/x-python",
   "name": "python",
   "nbconvert_exporter": "python",
   "pygments_lexer": "ipython3",
   "version": "3.5.2"
  }
 },
 "nbformat": 4,
 "nbformat_minor": 2
}
