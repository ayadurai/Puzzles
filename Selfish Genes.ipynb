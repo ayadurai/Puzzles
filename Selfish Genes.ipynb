{
 "cells": [
  {
   "cell_type": "markdown",
   "metadata": {},
   "source": [
    "## Selfish Genes\n",
    "\n",
    "Quanta puzzle 2017-09-14\n",
    "\n",
    "https://www.quantamagazine.org/are-genes-selfish-or-cooperative-20170914/"
   ]
  },
  {
   "cell_type": "code",
   "execution_count": 1,
   "metadata": {
    "collapsed": true
   },
   "outputs": [],
   "source": [
    "# Imports\n",
    "import numpy as np\n",
    "import pandas as pd\n",
    "import matplotlib.pyplot as plt"
   ]
  },
  {
   "cell_type": "markdown",
   "metadata": {},
   "source": [
    "### Problem 1"
   ]
  },
  {
   "cell_type": "code",
   "execution_count": 32,
   "metadata": {
    "scrolled": true
   },
   "outputs": [
    {
     "name": "stdout",
     "output_type": "stream",
     "text": [
      "      AA    Aa    aa  Sum  Amount of A  Amount of a\n",
      "0   0.30  0.60  0.10  1.0          1.2          0.8\n",
      "1   0.36  0.48  0.16  1.0          1.2          0.8\n",
      "2   0.36  0.48  0.16  1.0          1.2          0.8\n",
      "3   0.36  0.48  0.16  1.0          1.2          0.8\n",
      "4   0.36  0.48  0.16  1.0          1.2          0.8\n",
      "5   0.36  0.48  0.16  1.0          1.2          0.8\n",
      "6   0.36  0.48  0.16  1.0          1.2          0.8\n",
      "7   0.36  0.48  0.16  1.0          1.2          0.8\n",
      "8   0.36  0.48  0.16  1.0          1.2          0.8\n",
      "9   0.36  0.48  0.16  1.0          1.2          0.8\n",
      "10  0.36  0.48  0.16  1.0          1.2          0.8\n"
     ]
    }
   ],
   "source": [
    "# Set the initial distribution of genotypes\n",
    "df = pd.DataFrame([[0.3, 0.6, 0.1]],\n",
    "                  columns=[\"AA\", \"Aa\", \"aa\"])\n",
    "\n",
    "# df.loc[1] = [1,23,4]\n",
    "\n",
    "def next_gen(curr_gen):\n",
    "    \"\"\"\n",
    "    Returns the distribution of genotypes for a given initial distribution\n",
    "    Accepts a 3x1 list, containing the generation number, and probabilities for the three genotypes\n",
    "    Returns a 3x1 list, containing the same for the next generation\n",
    "    \"\"\"\n",
    "    \n",
    "    # Unpack the list, for legibility\n",
    "    pAA, pAa, paa = curr_gen\n",
    "    \n",
    "    next_gen = [0,0,0] # This line can probably be improved\n",
    "    \n",
    "    # Compute proportion of AAs in next generation (next_gen[0])\n",
    "    next_gen[0] =  pAA * pAA # AA meets AA\n",
    "    next_gen[0] += pAA * pAa # AA meets Aa\n",
    "    next_gen[0] += pAa * pAa * 0.25 # Aa meets Aa\n",
    "    \n",
    "    # Compute proportion of Aas in next generation (next_gen[1])\n",
    "    next_gen[1] =  pAA * pAa # AA meets Aa\n",
    "    next_gen[1] += pAA * paa * 2 # AA meets aa\n",
    "    next_gen[1] += pAa * pAa * 0.5 # Aa meets Aa \n",
    "    next_gen[1] += pAa * paa # Aa meets aa \n",
    "    \n",
    "    # Compute proportion of aas in next generation (next_gen[2])\n",
    "    next_gen[2] =  pAa * pAa * 0.25 # Aa meets Aa\n",
    "    next_gen[2] += pAa * paa # Aa meets aa\n",
    "    next_gen[2] += paa * paa # aa meets aa\n",
    "\n",
    "    map(lambda x: round(x, 10), next_gen)\n",
    "    \n",
    "    return next_gen\n",
    "\n",
    "# Simulate 10 generations\n",
    "for x in range(10):\n",
    "    df.loc[x + 1] = next_gen(df.iloc[x])\n",
    "\n",
    "# Add a sum of the proportions, to ensure it is 100%\n",
    "df['Sum'] = df['AA'] + df['Aa'] + df['aa']\n",
    "\n",
    "# Compute the proportion of the population by allele\n",
    "df['Amount of A'] = df['AA'] * 2 + df['Aa']\n",
    "df['Amount of a'] = df['aa'] * 2 + df['Aa']\n",
    "\n",
    "# Print out the entire DataFrame\n",
    "with pd.option_context('display.max_rows', None, 'display.max_columns', None):\n",
    "    print(df)\n",
    "    \n",
    "df.to_csv(\"set1\", sep=\"\\t\")"
   ]
  },
  {
   "cell_type": "markdown",
   "metadata": {},
   "source": [
    "The distribution of genotypes stabilises after the first generation - it remains the same for all subsequent generations. (This can be tested for other initial distributions. Using the code above, there will be changes after about 30 generations, but this seems to be due to the accumulation of rounding errors.)\n",
    "\n",
    "### Problem 2\n",
    "\n",
    "Looking at the three initial distributions suggested, we see:\n",
    "\n",
    "\n",
    "\n",
    "| Generation | AA   | Aa   | aa   | Sum | Amount of A | Amount of a |\n",
    "|------------|------|------|------|-----|-------------|-------------|\n",
    "| 0          | 0.3  | 0.6  | 0.1  | 1.0 | 1.2         | 0.8         |\n",
    "| 1          | 0.36 | 0.48 | 0.16 | 1.0 | 1.2         | 0.8         |\n",
    "\n",
    "\n",
    "| Generation | AA   | Aa   | aa   | Sum | Amount of A | Amount of a |\n",
    "|------------|------|------|------|-----|-------------|-------------|\n",
    "| 0          | 0.2  | 0.8  | 0.0  | 1.0 | 1.2         | 0.8         |\n",
    "| 1          | 0.36 | 0.48 | 0.16 | 1.0 | 1.2         | 0.8         |\n",
    "\n",
    "\n",
    "| Generation | AA   | Aa   | aa   | Sum | Amount of A | Amount of a |\n",
    "|------------|------|------|------|-----|-------------|-------------|\n",
    "| 0          | 0.7  | 0.2  | 0.1  | 1.0 | 1.6         | 0.4         |\n",
    "| 1          | 0.64 | 0.32 | 0.04 | 1.0 | 1.6         | 0.4         |\n",
    "\n",
    "In all cases, the distribution after generation 1 remains the same as that in generation 1.\n",
    "More interestingly, the distribution of alleles does not change at all; whatever was present in the initial generation is retained.\n"
   ]
  }
 ],
 "metadata": {
  "kernelspec": {
   "display_name": "Python 3",
   "language": "python",
   "name": "python3"
  },
  "language_info": {
   "codemirror_mode": {
    "name": "ipython",
    "version": 3
   },
   "file_extension": ".py",
   "mimetype": "text/x-python",
   "name": "python",
   "nbconvert_exporter": "python",
   "pygments_lexer": "ipython3",
   "version": "3.5.2"
  }
 },
 "nbformat": 4,
 "nbformat_minor": 2
}
