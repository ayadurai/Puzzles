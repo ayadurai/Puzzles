{
 "cells": [
  {
   "cell_type": "markdown",
   "metadata": {},
   "source": [
    "# Appetisers problem\n",
    "\n",
    "https://xkcd.com/287/"
   ]
  },
  {
   "cell_type": "code",
   "execution_count": 60,
   "metadata": {
    "collapsed": true
   },
   "outputs": [],
   "source": [
    "import numpy as np\n",
    "import itertools\n",
    "import math\n",
    "# import pandas as pd"
   ]
  },
  {
   "cell_type": "code",
   "execution_count": 61,
   "metadata": {
    "collapsed": true
   },
   "outputs": [],
   "source": [
    "appetisers = {'Mixed Fruit' : 2.15,\n",
    "              'French Fries' : 2.75,\n",
    "              'Side Salad' : 3.35,\n",
    "              'Hot Wings' : 3.55,\n",
    "              'Mozzerella Sticks' : 4.20,\n",
    "              'Sampler Plate' : 5.80}\n",
    "\n",
    "target = 15.05"
   ]
  },
  {
   "cell_type": "code",
   "execution_count": 62,
   "metadata": {},
   "outputs": [
    {
     "name": "stdout",
     "output_type": "stream",
     "text": [
      "['Mixed Fruit', 'Hot Wings', 'Hot Wings', 'Sampler Plate'] 15.05\n",
      "['Mixed Fruit', 'Mixed Fruit', 'Mixed Fruit', 'Mixed Fruit', 'Mixed Fruit', 'Mixed Fruit', 'Mixed Fruit'] 15.05\n"
     ]
    }
   ],
   "source": [
    "#### Brute force the knapsack problem\n",
    "\n",
    "# Diners can order the same dish multiple times.\n",
    "# Need to determine the max number of dishes that we need to consider\n",
    "r = math.ceil(target / min(appetisers.values()))\n",
    "\n",
    "# Loop through all combinations (with replacement) of dishes and print the combinations\n",
    "# that match the target price\n",
    "for r in range(1, r + 1):\n",
    "    for items in [list(items) for items in itertools.combinations_with_replacement(appetisers, r)]:\n",
    "        total = sum(appetisers[item] for item in items)\n",
    "        if abs(total - target) < 0.01:\n",
    "            print(items, total)"
   ]
  },
  {
   "cell_type": "markdown",
   "metadata": {},
   "source": [
    "Two combinations of dishes add up to the target price."
   ]
  }
 ],
 "metadata": {
  "kernelspec": {
   "display_name": "Python 3",
   "language": "python",
   "name": "python3"
  },
  "language_info": {
   "codemirror_mode": {
    "name": "ipython",
    "version": 3
   },
   "file_extension": ".py",
   "mimetype": "text/x-python",
   "name": "python",
   "nbconvert_exporter": "python",
   "pygments_lexer": "ipython3",
   "version": "3.5.2"
  }
 },
 "nbformat": 4,
 "nbformat_minor": 2
}
